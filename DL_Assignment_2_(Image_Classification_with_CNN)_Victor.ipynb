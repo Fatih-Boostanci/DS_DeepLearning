{
  "cells": [
    {
      "cell_type": "markdown",
      "metadata": {
        "id": "view-in-github",
        "colab_type": "text"
      },
      "source": [
        "<a href=\"https://colab.research.google.com/github/Fatih-Boostanci/DS_DeepLearning/blob/master/DL_Assignment_2_(Image_Classification_with_CNN)_Victor.ipynb\" target=\"_parent\"><img src=\"https://colab.research.google.com/assets/colab-badge.svg\" alt=\"Open In Colab\"/></a>"
      ]
    },
    {
      "cell_type": "markdown",
      "metadata": {
        "id": "2HzxgI29Xb-1"
      },
      "source": [
        "___\n",
        "\n",
        "<p style=\"text-align: center;\"><img src=\"https://docs.google.com/uc?id=1lY0Uj5R04yMY3-ZppPWxqCr5pvBLYPnV\" class=\"img-fluid\" alt=\"CLRSWY\"></p>\n",
        "\n",
        "___"
      ]
    },
    {
      "cell_type": "markdown",
      "metadata": {
        "id": "P1yYOxwdXb-6"
      },
      "source": [
        "<h1 style=\"text-align: center;\">Deep Learning<br><br>Assignment-2 (CNN)<br><br>Image Classification with CNN<br><h1>"
      ]
    },
    {
      "cell_type": "markdown",
      "metadata": {
        "id": "2h0OY-SoXb-6"
      },
      "source": [
        "# Task and Dataset Info\n",
        "\n",
        "Welcome to second assignment of Deep learning lesson. Follow the instructions and complete the assignment.\n",
        "\n",
        "**Build an image classifier with Convolutional Neural Networks for the Fashion MNIST dataset. This data set includes 10 labels of different clothing types with 28 by 28 *grayscale* images. There is a training set of 60,000 images and 10,000 test images.**\n",
        "\n",
        "    Label\tDescription\n",
        "    0\t    T-shirt/top\n",
        "    1\t    Trouser\n",
        "    2\t    Pullover\n",
        "    3\t    Dress\n",
        "    4\t    Coat\n",
        "    5\t    Sandal\n",
        "    6\t    Shirt\n",
        "    7\t    Sneaker\n",
        "    8\t    Bag\n",
        "    9\t    Ankle boot"
      ]
    },
    {
      "cell_type": "markdown",
      "metadata": {
        "id": "T6UW7z1bXb-7"
      },
      "source": [
        "# Import Libraries"
      ]
    },
    {
      "cell_type": "code",
      "execution_count": null,
      "metadata": {
        "id": "DLruHPhaXb-7"
      },
      "outputs": [],
      "source": []
    },
    {
      "cell_type": "code",
      "execution_count": 52,
      "metadata": {
        "id": "pyjqyftAzSfT"
      },
      "outputs": [],
      "source": [
        "import numpy as np\n",
        "import pandas as pd\n",
        "import matplotlib.pyplot as plt\n",
        "import seaborn as sns\n",
        "import warnings\n",
        "warnings.filterwarnings(\"ignore\")\n",
        "warnings.warn(\"this will not show\")\n",
        "plt.rcParams[\"figure.figsize\"] = (10,6)\n",
        "sns.set_style(\"whitegrid\")\n",
        "pd.set_option('display.float_format', lambda x: '%.3f' % x)\n",
        "# Set it None to display all rows in the dataframe\n",
        "# pd.set_option('display.max_rows', None)\n",
        "# Set it to None to display all columns in the dataframe\n",
        "pd.set_option('display.max_columns', None)"
      ]
    },
    {
      "cell_type": "code",
      "source": [
        "import tensorflow as tf\n",
        "tf.config.list_physical_devices(\"GPU\")"
      ],
      "metadata": {
        "colab": {
          "base_uri": "https://localhost:8080/"
        },
        "id": "xIU0c3EUY3Zj",
        "outputId": "c25cde73-4e4b-4805-a64b-0cc41c1d0b7b"
      },
      "execution_count": 53,
      "outputs": [
        {
          "output_type": "execute_result",
          "data": {
            "text/plain": [
              "[]"
            ]
          },
          "metadata": {},
          "execution_count": 53
        }
      ]
    },
    {
      "cell_type": "markdown",
      "metadata": {
        "id": "Zo_Kd32hXb-8"
      },
      "source": [
        "# Recognizing and Understanding Data\n",
        "\n",
        "**TASK 1: Run the code below to download the dataset using Keras.**"
      ]
    },
    {
      "cell_type": "code",
      "execution_count": 54,
      "metadata": {
        "id": "lKV5KnWAXb-8"
      },
      "outputs": [],
      "source": [
        "from tensorflow.keras.datasets import fashion_mnist\n",
        "\n",
        "(X_train, y_train), (X_test, y_test) = fashion_mnist.load_data()"
      ]
    },
    {
      "cell_type": "code",
      "execution_count": 55,
      "metadata": {
        "colab": {
          "base_uri": "https://localhost:8080/"
        },
        "id": "y_s4I5c1Xb-9",
        "outputId": "b8302f52-7556-46e5-8c93-326b03d9b42f"
      },
      "outputs": [
        {
          "output_type": "stream",
          "name": "stdout",
          "text": [
            "There are 60000 images in the training dataset\n",
            "There are 10000 images in the test dataset\n"
          ]
        }
      ],
      "source": [
        "print(\"There are\", len(X_train), \"images in the training dataset\")\n",
        "print(\"There are\", len(X_test), \"images in the test dataset\")"
      ]
    },
    {
      "cell_type": "code",
      "source": [
        "# Checking the shape of one image\n",
        "X_train.shape"
      ],
      "metadata": {
        "colab": {
          "base_uri": "https://localhost:8080/"
        },
        "id": "kOsCWidnZzbF",
        "outputId": "fbcb2521-17eb-4012-dc69-636f5f75951c"
      },
      "execution_count": 56,
      "outputs": [
        {
          "output_type": "execute_result",
          "data": {
            "text/plain": [
              "(60000, 28, 28)"
            ]
          },
          "metadata": {},
          "execution_count": 56
        }
      ]
    },
    {
      "cell_type": "code",
      "source": [
        "X_train[11].shape"
      ],
      "metadata": {
        "colab": {
          "base_uri": "https://localhost:8080/"
        },
        "id": "5g1bXmPbaBEN",
        "outputId": "c762a3fd-6db3-481f-ee20-878cf39d4364"
      },
      "execution_count": 57,
      "outputs": [
        {
          "output_type": "execute_result",
          "data": {
            "text/plain": [
              "(28, 28)"
            ]
          },
          "metadata": {},
          "execution_count": 57
        }
      ]
    },
    {
      "cell_type": "code",
      "source": [
        "X_train[11]"
      ],
      "metadata": {
        "colab": {
          "base_uri": "https://localhost:8080/"
        },
        "id": "I0EZNtDRaG4T",
        "outputId": "0c6348bf-cf46-40cc-c45b-076586d6d315"
      },
      "execution_count": 58,
      "outputs": [
        {
          "output_type": "execute_result",
          "data": {
            "text/plain": [
              "array([[  0,   0,   0,   0,   0,   0,   0,   0,   0,   0,   0,   0,   0,\n",
              "          0,  39, 111,  93,  85,  27,   0,   0,   0,   0,   0,   1,   0,\n",
              "          0,   0],\n",
              "       [  0,   0,   0,   0,   0,   0,   0,   0,   0,   0,   0,   1,   0,\n",
              "          0, 190, 244, 248, 255, 255, 155, 202, 212, 150,   9,   0,   3,\n",
              "          0,   0],\n",
              "       [  0,   0,   0,   0,   0,   0,   0,   0,   0,   0,   0,   2,   0,\n",
              "          0, 213, 227, 233, 227, 243, 246, 255, 250, 255, 146,   0,   9,\n",
              "          0,   0],\n",
              "       [  0,   0,   0,   0,   0,   0,   0,   0,   0,   0,   0,   4,   0,\n",
              "          6, 244, 233, 236, 244, 232, 214, 248, 242, 251,  33,   0,   7,\n",
              "          0,   0],\n",
              "       [  0,   0,   0,   0,   0,   0,   0,   0,   0,   0,   1,   6,   0,\n",
              "         72, 255, 231, 239, 244, 237, 226, 255, 252, 207,  44,  24,   0,\n",
              "          2,   0],\n",
              "       [  0,   0,   0,   0,   0,   0,   0,   0,   0,   0,   0,   0,   0,\n",
              "        125, 231, 215, 253, 252, 234, 246, 254, 239, 128, 114,  63,   0,\n",
              "          3,   0],\n",
              "       [  0,   0,   0,   0,   0,   0,   0,   0,   0,   0,   1,   0,   0,\n",
              "        189, 230, 198, 185, 219, 218, 255, 206, 255, 133,  31,   0,   0,\n",
              "          0,   0],\n",
              "       [  0,   0,   0,   0,   0,   0,   0,   0,   0,   0,   4,   0,   0,\n",
              "        224, 241, 255, 236, 237, 223, 191, 219, 166,   0,   0,   1,   0,\n",
              "          0,   0],\n",
              "       [  0,   0,   0,   0,   0,   0,   0,   0,   0,   0,   1,   0,  61,\n",
              "        245, 202, 220, 237, 220, 242, 199, 255, 178,   0,   0,   1,   0,\n",
              "          0,   0],\n",
              "       [  0,   0,   0,   0,   0,   0,   0,   0,   0,   0,   0,   0, 153,\n",
              "        247, 205, 202, 212, 207, 225, 190, 255,  93, 141,   0,   0,   1,\n",
              "          0,   0],\n",
              "       [  0,   0,   0,   0,   0,   0,   0,   0,   0,   3,   0,   0, 222,\n",
              "        228, 233, 243, 248, 242, 242, 209, 255,   0,  90, 177,   0,   0,\n",
              "          0,   0],\n",
              "       [  0,   0,   0,   0,   0,   0,   0,   0,   0,   2,   0,  46, 255,\n",
              "        221, 235, 235, 213, 248, 220, 206, 255, 225,  28, 255,   0,   0,\n",
              "          0,   0],\n",
              "       [  0,   0,   0,   0,   0,   0,   0,   0,   0,   0,   0, 116, 250,\n",
              "        215, 227, 231, 226, 255, 195, 216, 250, 255, 159, 255, 160,   0,\n",
              "          0,   0],\n",
              "       [  0,   0,   0,   0,   0,   0,   0,   0,   3,   0,   7, 226, 202,\n",
              "        241, 247, 241, 228, 255, 175, 229, 252, 241, 255, 224, 224,  76,\n",
              "          0,   0],\n",
              "       [  0,   0,   0,   0,   0,   0,   0,   0,   0,   0, 131, 255, 210,\n",
              "        212, 251, 252, 229, 255, 175, 227, 254, 239, 245, 230, 223, 149,\n",
              "         90,   0],\n",
              "       [  0,   0,   0,   0,   0,   0,   0,   2,   0,   0, 227, 238, 238,\n",
              "        225, 205, 242, 246, 223, 187, 221, 254, 238, 255, 233, 156,   0,\n",
              "          0,   0],\n",
              "       [  0,   0,   0,   0,   0,   1,   0,   0,   0,  77, 255, 239, 248,\n",
              "        252, 237, 195, 201, 232, 190, 205, 252, 235, 255, 199,   0,   0,\n",
              "          0,   0],\n",
              "       [  0,   0,   0,   0,   0,   0,   0,   0,   0, 207, 223, 186, 215,\n",
              "        223, 255, 255, 217, 229, 254, 251, 244, 240, 255, 207,   0,   0,\n",
              "          1,   0],\n",
              "       [  0,   0,   0,   0,   0,   0,   2,   0,  53, 254, 234, 239, 222,\n",
              "        190, 187, 200, 250, 237, 195, 251, 250, 237, 253, 192,   0,   0,\n",
              "          0,   0],\n",
              "       [  0,   0,   0,   2,   4,   2,   0,   0, 190, 247, 233, 231, 250,\n",
              "        254, 247, 208, 208, 231, 226, 207, 246, 235, 248, 175,   0,   0,\n",
              "          0,   0],\n",
              "       [  0,   1,   6,   0,   0,   0,   0, 117, 245, 184, 242, 238, 235,\n",
              "        238, 244, 233, 255, 255,  99, 155, 255, 233, 252, 154,   0,   0,\n",
              "          0,   0],\n",
              "       [  0,   0,   0,   0,   3,  33, 141, 255, 197, 208, 184, 234, 246,\n",
              "        240, 243, 231, 255,  77,   0, 172, 255, 231, 253, 139,   0,   1,\n",
              "          0,   0],\n",
              "       [  0,   0,  84, 243, 246, 255, 254, 240, 241, 190, 229, 198, 243,\n",
              "        244, 238, 255,  80,   0,   0, 176, 255, 231, 252, 113,   0,   3,\n",
              "          0,   0],\n",
              "       [  0,  25, 223, 239, 230, 231, 231, 234, 241, 247, 191, 225, 230,\n",
              "        252, 255, 173,   0,   0,   0, 170, 255, 228, 251,  97,   0,   4,\n",
              "          0,   0],\n",
              "       [  0, 103, 241, 217, 228, 230, 238, 241, 238, 248, 244, 216, 172,\n",
              "        223, 255,   0,   0,   7,   0, 159, 255, 234, 251,  74,   0,   4,\n",
              "          0,   0],\n",
              "       [  0,   9, 188, 229, 242, 241, 243, 240, 236, 238, 241, 251, 237,\n",
              "        253,  64,   0,   0,   3,   0, 154, 255, 229, 255,  62,   0,   7,\n",
              "          0,   0],\n",
              "       [  0,   0,   0,  28, 123, 199, 249, 255, 255, 255, 255, 255, 245,\n",
              "         72,   0,   0,   0,   3,   0, 117, 255, 245, 220,  19,   0,   4,\n",
              "          0,   0],\n",
              "       [  0,   0,   0,   0,   0,   0,   0,  38,  72,  89,  71,  37,   0,\n",
              "          0,   0,   0,   0,   3,   0,   0,  64,  42,  24,   0,   0,   0,\n",
              "          0,   0]], dtype=uint8)"
            ]
          },
          "metadata": {},
          "execution_count": 58
        }
      ]
    },
    {
      "cell_type": "code",
      "source": [],
      "metadata": {
        "id": "t4oVIpeKazfO"
      },
      "execution_count": null,
      "outputs": []
    },
    {
      "cell_type": "code",
      "source": [],
      "metadata": {
        "id": "1Sd-NszrZ0cC"
      },
      "execution_count": null,
      "outputs": []
    },
    {
      "cell_type": "code",
      "execution_count": null,
      "metadata": {
        "id": "GzbgJ8ewXb-9"
      },
      "outputs": [],
      "source": []
    },
    {
      "cell_type": "markdown",
      "metadata": {
        "id": "B182ghVGXb-9"
      },
      "source": [
        "**TASK 2: Use matplotlib to view an image from the data set. It can be any image from the data set.**"
      ]
    },
    {
      "cell_type": "code",
      "execution_count": 59,
      "metadata": {
        "id": "UReIhjYuXb--"
      },
      "outputs": [],
      "source": [
        "classes=[\"T-shirt/top\", \"Trouser\",\"Pullover\",\"Dress\",\"Coat\",\"Sandal\",\"Shirt\",\"Sneaker\",\"Bag\",\"Ankle boot\"]"
      ]
    },
    {
      "cell_type": "code",
      "execution_count": 60,
      "metadata": {
        "colab": {
          "base_uri": "https://localhost:8080/",
          "height": 391
        },
        "id": "nC9bnrhXXb--",
        "outputId": "4cef5e46-6d0a-41c2-ffa3-0c4ff6353f0d"
      },
      "outputs": [
        {
          "output_type": "execute_result",
          "data": {
            "text/plain": [
              "<matplotlib.image.AxesImage at 0x7f6788bbf110>"
            ]
          },
          "metadata": {},
          "execution_count": 60
        },
        {
          "output_type": "display_data",
          "data": {
            "text/plain": [
              "<Figure size 720x432 with 1 Axes>"
            ],
            "image/png": "[encoded data removed]"
          },
          "metadata": {}
        }
      ],
      "source": [
        "plt.imshow(X_train[11], cmap=\"gray\")"
      ]
    },
    {
      "cell_type": "code",
      "execution_count": 61,
      "metadata": {
        "colab": {
          "base_uri": "https://localhost:8080/"
        },
        "id": "Mi35jVppXb-_",
        "outputId": "16766dc5-76d7-4229-a4a4-51fbfc5e867b"
      },
      "outputs": [
        {
          "output_type": "execute_result",
          "data": {
            "text/plain": [
              "9"
            ]
          },
          "metadata": {},
          "execution_count": 61
        }
      ],
      "source": [
        "y_train[11]"
      ]
    },
    {
      "cell_type": "code",
      "source": [
        "y_train.shape"
      ],
      "metadata": {
        "colab": {
          "base_uri": "https://localhost:8080/"
        },
        "id": "tTVsneBncIla",
        "outputId": "a66be277-7daf-4742-867d-695082502c27"
      },
      "execution_count": 62,
      "outputs": [
        {
          "output_type": "execute_result",
          "data": {
            "text/plain": [
              "(60000,)"
            ]
          },
          "metadata": {},
          "execution_count": 62
        }
      ]
    },
    {
      "cell_type": "code",
      "source": [
        "y_train"
      ],
      "metadata": {
        "colab": {
          "base_uri": "https://localhost:8080/"
        },
        "id": "8cLXo5UocOiS",
        "outputId": "4ae9f939-6044-47e8-db9a-bbc29a1f7ac5"
      },
      "execution_count": 63,
      "outputs": [
        {
          "output_type": "execute_result",
          "data": {
            "text/plain": [
              "array([9, 0, 0, ..., 3, 0, 5], dtype=uint8)"
            ]
          },
          "metadata": {},
          "execution_count": 63
        }
      ]
    },
    {
      "cell_type": "code",
      "source": [
        "np.unique(y_train, return_counts=True)"
      ],
      "metadata": {
        "colab": {
          "base_uri": "https://localhost:8080/"
        },
        "id": "tpjSDxEcw9va",
        "outputId": "dcc128f9-9786-43e8-cdb6-94a28f39a59c"
      },
      "execution_count": 64,
      "outputs": [
        {
          "output_type": "execute_result",
          "data": {
            "text/plain": [
              "(array([0, 1, 2, 3, 4, 5, 6, 7, 8, 9], dtype=uint8),\n",
              " array([6000, 6000, 6000, 6000, 6000, 6000, 6000, 6000, 6000, 6000]))"
            ]
          },
          "metadata": {},
          "execution_count": 64
        }
      ]
    },
    {
      "cell_type": "code",
      "source": [
        "cloth_rows, cloth_cols = 2, 5\n",
        "f, ax = plt.subplots(2, 5, figsize=(14, 6), gridspec_kw={\"wspace\":0.03, \"hspace\":0.02}, squeeze=True)\n",
        "\n",
        "for r in range(cloth_rows):\n",
        "  for c in range(cloth_cols):\n",
        "\n",
        "    image_index = r * 5 + c\n",
        "    ax[r, c].axis(\"off\")\n",
        "    ax[r, c].set_title(\"No. %d\" % y_train[image_index])\n",
        "    ax[r, c].imshow(X_train[image_index], cmap=\"gray\")\n",
        "\n",
        "plt.tight_layout()\n",
        "plt.show()\n",
        "plt.close()"
      ],
      "metadata": {
        "colab": {
          "base_uri": "https://localhost:8080/",
          "height": 364
        },
        "id": "JMtN5oWIcWmJ",
        "outputId": "89e0c5b2-56ba-47f9-ae8d-9e2dd0594f00"
      },
      "execution_count": 65,
      "outputs": [
        {
          "output_type": "display_data",
          "data": {
            "text/plain": [
              "<Figure size 1008x432 with 10 Axes>"
            ],
            "image/png": "[encoded data removed]"
          },
          "metadata": {}
        }
      ]
    },
    {
      "cell_type": "code",
      "source": [],
      "metadata": {
        "id": "8JHxFvjbezlm"
      },
      "execution_count": null,
      "outputs": []
    },
    {
      "cell_type": "code",
      "execution_count": null,
      "metadata": {
        "id": "cL55JsyKXb-_"
      },
      "outputs": [],
      "source": []
    },
    {
      "cell_type": "markdown",
      "metadata": {
        "id": "vAlmOFpIXb_A"
      },
      "source": [
        "# Data Preprocessing\n",
        "\n",
        "**TASK 3: Normalize the X train and X test data by dividing by the max value of the image arrays.**"
      ]
    },
    {
      "cell_type": "code",
      "execution_count": 66,
      "metadata": {
        "colab": {
          "base_uri": "https://localhost:8080/"
        },
        "id": "2-P7JYvyXb_A",
        "outputId": "97afc026-9ee5-4405-aff4-c34ff432e36f"
      },
      "outputs": [
        {
          "output_type": "execute_result",
          "data": {
            "text/plain": [
              "(0, 255)"
            ]
          },
          "metadata": {},
          "execution_count": 66
        }
      ],
      "source": [
        "X_train[7].min(), X_train[7].max()"
      ]
    },
    {
      "cell_type": "code",
      "source": [
        "X_train = X_train.astype(\"float32\")\n",
        "X_test = X_test.astype(\"float32\")\n",
        "X_train /= 255\n",
        "X_test /= 255"
      ],
      "metadata": {
        "id": "cNS3QdVIfHJz"
      },
      "execution_count": 67,
      "outputs": []
    },
    {
      "cell_type": "code",
      "execution_count": 68,
      "metadata": {
        "id": "HJ6BQtgAXb_A",
        "colab": {
          "base_uri": "https://localhost:8080/"
        },
        "outputId": "de77f596-11f7-4654-877a-bedbdaccba01"
      },
      "outputs": [
        {
          "output_type": "execute_result",
          "data": {
            "text/plain": [
              "(0.0, 1.0)"
            ]
          },
          "metadata": {},
          "execution_count": 68
        }
      ],
      "source": [
        "X_train[8].min(), X_train[8].max()"
      ]
    },
    {
      "cell_type": "code",
      "source": [
        "X_test[8].min(), X_test[8].max()"
      ],
      "metadata": {
        "colab": {
          "base_uri": "https://localhost:8080/"
        },
        "id": "Y4SFo3Jdv-KW",
        "outputId": "4a1b27e3-a680-42ec-ba2e-6439335565a8"
      },
      "execution_count": 69,
      "outputs": [
        {
          "output_type": "execute_result",
          "data": {
            "text/plain": [
              "(0.0, 0.99607843)"
            ]
          },
          "metadata": {},
          "execution_count": 69
        }
      ]
    },
    {
      "cell_type": "code",
      "source": [
        "plt.matshow(X_train[8], cmap=\"gray\")"
      ],
      "metadata": {
        "colab": {
          "base_uri": "https://localhost:8080/",
          "height": 403
        },
        "id": "g0a4QUg0wGIj",
        "outputId": "7b70f4e5-b604-49fc-e806-d3e969798426"
      },
      "execution_count": 70,
      "outputs": [
        {
          "output_type": "execute_result",
          "data": {
            "text/plain": [
              "<matplotlib.image.AxesImage at 0x7f678995c7d0>"
            ]
          },
          "metadata": {},
          "execution_count": 70
        },
        {
          "output_type": "display_data",
          "data": {
            "text/plain": [
              "<Figure size 432x432 with 1 Axes>"
            ],
            "image/png": "[encoded data removed]"
          },
          "metadata": {}
        }
      ]
    },
    {
      "cell_type": "code",
      "execution_count": 71,
      "metadata": {
        "id": "zb3k8DmEXb_B",
        "colab": {
          "base_uri": "https://localhost:8080/"
        },
        "outputId": "30c890a7-d17b-49db-ed76-e1888bacb55e"
      },
      "outputs": [
        {
          "output_type": "execute_result",
          "data": {
            "text/plain": [
              "((60000, 28, 28), (10000, 28, 28))"
            ]
          },
          "metadata": {},
          "execution_count": 71
        }
      ],
      "source": [
        "X_train.shape, X_test.shape "
      ]
    },
    {
      "cell_type": "code",
      "source": [],
      "metadata": {
        "id": "FX165PTWxVJe"
      },
      "execution_count": null,
      "outputs": []
    },
    {
      "cell_type": "markdown",
      "metadata": {
        "id": "LwR4dsvgXb_B"
      },
      "source": [
        "**Task 4: Reshape the X arrays to include a 4 dimension of the single channel. Similar to what we did for the numbers MNIST data set.**"
      ]
    },
    {
      "cell_type": "code",
      "execution_count": 72,
      "metadata": {
        "id": "M0-vqqYnXb_B",
        "colab": {
          "base_uri": "https://localhost:8080/"
        },
        "outputId": "c3bffc1a-a0fe-4da9-dded-8c3ed0c63957"
      },
      "outputs": [
        {
          "output_type": "execute_result",
          "data": {
            "text/plain": [
              "(60000, 28, 28, 1)"
            ]
          },
          "metadata": {},
          "execution_count": 72
        }
      ],
      "source": [
        "X_train.reshape(60000, 28, 28, 1).shape"
      ]
    },
    {
      "cell_type": "code",
      "execution_count": 73,
      "metadata": {
        "id": "Qc8GrB-iXb_B"
      },
      "outputs": [],
      "source": [
        "X_train = X_train.reshape(X_train.shape[0],28, 28, 1) \n",
        "X_test = X_test.reshape(X_test.shape[0], 28, 28, 1)"
      ]
    },
    {
      "cell_type": "code",
      "execution_count": 74,
      "metadata": {
        "id": "jGSuLBCuXb_B",
        "colab": {
          "base_uri": "https://localhost:8080/"
        },
        "outputId": "c509bb97-7e75-4029-aa63-a505f9a5a164"
      },
      "outputs": [
        {
          "output_type": "execute_result",
          "data": {
            "text/plain": [
              "((60000, 28, 28, 1), (10000, 28, 28, 1))"
            ]
          },
          "metadata": {},
          "execution_count": 74
        }
      ],
      "source": [
        "X_train.shape, X_test.shape"
      ]
    },
    {
      "cell_type": "code",
      "source": [],
      "metadata": {
        "id": "YwxZZovyxs3J"
      },
      "execution_count": null,
      "outputs": []
    },
    {
      "cell_type": "markdown",
      "metadata": {
        "id": "9n9oY8CvXb_B"
      },
      "source": [
        "**TASK 5: Convert the y_train and y_test values to be one-hot encoded for categorical analysis by Keras.**"
      ]
    },
    {
      "cell_type": "code",
      "execution_count": 75,
      "metadata": {
        "id": "CBpODLyNXb_C",
        "colab": {
          "base_uri": "https://localhost:8080/"
        },
        "outputId": "369fdc36-131a-457a-f579-bd5dbb6ab45f"
      },
      "outputs": [
        {
          "output_type": "execute_result",
          "data": {
            "text/plain": [
              "array([9, 0, 0, ..., 3, 0, 5], dtype=uint8)"
            ]
          },
          "metadata": {},
          "execution_count": 75
        }
      ],
      "source": [
        "y_train"
      ]
    },
    {
      "cell_type": "code",
      "source": [
        "y_train.shape"
      ],
      "metadata": {
        "colab": {
          "base_uri": "https://localhost:8080/"
        },
        "id": "y9MtFLS8x8tK",
        "outputId": "e6514804-b184-46b2-8dcd-3b227ca61af5"
      },
      "execution_count": 76,
      "outputs": [
        {
          "output_type": "execute_result",
          "data": {
            "text/plain": [
              "(60000,)"
            ]
          },
          "metadata": {},
          "execution_count": 76
        }
      ]
    },
    {
      "cell_type": "code",
      "source": [
        "y_train[9].shape"
      ],
      "metadata": {
        "colab": {
          "base_uri": "https://localhost:8080/"
        },
        "id": "ekxUPU1By5ot",
        "outputId": "1d829493-b23c-49d9-b8d5-b0f8f2fb5e33"
      },
      "execution_count": 77,
      "outputs": [
        {
          "output_type": "execute_result",
          "data": {
            "text/plain": [
              "()"
            ]
          },
          "metadata": {},
          "execution_count": 77
        }
      ]
    },
    {
      "cell_type": "code",
      "source": [],
      "metadata": {
        "id": "n8TkPFL-y887"
      },
      "execution_count": null,
      "outputs": []
    },
    {
      "cell_type": "code",
      "source": [
        "from tensorflow.keras.utils import to_categorical"
      ],
      "metadata": {
        "id": "0kloHy4pyC82"
      },
      "execution_count": 103,
      "outputs": []
    },
    {
      "cell_type": "code",
      "source": [
        "Y_train = to_categorical(y_train, 10)\n",
        "Y_test = to_categorical(y_test, 10)\n",
        "Y_train.shape"
      ],
      "metadata": {
        "colab": {
          "base_uri": "https://localhost:8080/"
        },
        "id": "dAsqGwkyyHxM",
        "outputId": "fedeff2b-1c80-4969-9693-b8108663c0ad"
      },
      "execution_count": 104,
      "outputs": [
        {
          "output_type": "execute_result",
          "data": {
            "text/plain": [
              "(60000, 10)"
            ]
          },
          "metadata": {},
          "execution_count": 104
        }
      ]
    },
    {
      "cell_type": "code",
      "source": [
        "Y_train[9]"
      ],
      "metadata": {
        "colab": {
          "base_uri": "https://localhost:8080/"
        },
        "id": "dkli_1cf1AcV",
        "outputId": "c689ef8d-87d1-4a1c-dbca-40a1d81565e0"
      },
      "execution_count": 105,
      "outputs": [
        {
          "output_type": "execute_result",
          "data": {
            "text/plain": [
              "array([0., 0., 0., 0., 0., 1., 0., 0., 0., 0.], dtype=float32)"
            ]
          },
          "metadata": {},
          "execution_count": 105
        }
      ]
    },
    {
      "cell_type": "code",
      "source": [
        "Y_train[9].shape"
      ],
      "metadata": {
        "colab": {
          "base_uri": "https://localhost:8080/"
        },
        "id": "CdEZSm03yyMm",
        "outputId": "3994acd0-8b98-41bd-9ebc-a1add2692836"
      },
      "execution_count": 106,
      "outputs": [
        {
          "output_type": "execute_result",
          "data": {
            "text/plain": [
              "(10,)"
            ]
          },
          "metadata": {},
          "execution_count": 106
        }
      ]
    },
    {
      "cell_type": "code",
      "source": [],
      "metadata": {
        "id": "vcXFEQ4YzBPg"
      },
      "execution_count": null,
      "outputs": []
    },
    {
      "cell_type": "code",
      "execution_count": null,
      "metadata": {
        "id": "uzOJh3J0Xb_C"
      },
      "outputs": [],
      "source": []
    },
    {
      "cell_type": "code",
      "execution_count": null,
      "metadata": {
        "id": "H-Vb7JbOXb_C"
      },
      "outputs": [],
      "source": []
    },
    {
      "cell_type": "code",
      "execution_count": null,
      "metadata": {
        "id": "PElxNIr9Xb_C"
      },
      "outputs": [],
      "source": []
    },
    {
      "cell_type": "markdown",
      "metadata": {
        "id": "a-UNjcIKXb_C"
      },
      "source": [
        "# Modeling"
      ]
    },
    {
      "cell_type": "markdown",
      "metadata": {
        "id": "-_NFfCOhXb_D"
      },
      "source": [
        "## Create the model\n",
        "\n",
        "**TASK 5: Use Keras to create a model consisting of at least the following layers (but feel free to experiment):**\n",
        "\n",
        "* 2D Convolutional Layer, filters=28 and kernel_size=(3,3)\n",
        "* Pooling Layer where pool_size = (2,2) strides=(1,1)\n",
        "\n",
        "* Flatten Layer\n",
        "* Dense Layer (128 Neurons, but feel free to play around with this value), RELU activation\n",
        "\n",
        "* Final Dense Layer of 10 Neurons with a softmax activation\n",
        "\n",
        "**Then compile the model with these parameters: loss='categorical_crossentropy', optimizer='rmsprop', metrics=['accuracy']**"
      ]
    },
    {
      "cell_type": "code",
      "execution_count": 107,
      "metadata": {
        "id": "bg5W-vu5Xb_D"
      },
      "outputs": [],
      "source": [
        "from tensorflow.keras.models import Sequential \n",
        "from tensorflow.keras.layers import Dense, Conv2D, MaxPool2D, Flatten"
      ]
    },
    {
      "cell_type": "code",
      "source": [],
      "metadata": {
        "id": "--5EIknJz6JQ"
      },
      "execution_count": null,
      "outputs": []
    },
    {
      "cell_type": "code",
      "execution_count": 114,
      "metadata": {
        "id": "1XKYFc5cGD92"
      },
      "outputs": [],
      "source": [
        "model = Sequential()\n",
        "model.add(Conv2D(filters=28, kernel_size=(3,3), input_shape=(28,28,1), activation=\"relu\"))\n",
        "model.add(MaxPool2D(pool_size = (2, 2), strides = (1,1)))\n",
        "model.add(Flatten())\n",
        "model.add(Dense(128, activation=\"relu\"))\n",
        "model.add(Dense(10, activation=\"softmax\"))\n",
        "model.compile(loss=\"categorical_crossentropy\", optimizer = \"rmsprop\", metrics = [\"accuracy\"])"
      ]
    },
    {
      "cell_type": "code",
      "source": [
        "model.summary()"
      ],
      "metadata": {
        "id": "kfY5_KIY1h9y",
        "colab": {
          "base_uri": "https://localhost:8080/"
        },
        "outputId": "222b4a81-0499-48fa-dffc-d57ef4e78306"
      },
      "execution_count": 115,
      "outputs": [
        {
          "output_type": "stream",
          "name": "stdout",
          "text": [
            "Model: \"sequential_5\"\n",
            "_________________________________________________________________\n",
            " Layer (type)                Output Shape              Param #   \n",
            "=================================================================\n",
            " conv2d_5 (Conv2D)           (None, 26, 26, 28)        280       \n",
            "                                                                 \n",
            " max_pooling2d_5 (MaxPooling  (None, 25, 25, 28)       0         \n",
            " 2D)                                                             \n",
            "                                                                 \n",
            " flatten_5 (Flatten)         (None, 17500)             0         \n",
            "                                                                 \n",
            " dense_10 (Dense)            (None, 128)               2240128   \n",
            "                                                                 \n",
            " dense_11 (Dense)            (None, 10)                1290      \n",
            "                                                                 \n",
            "=================================================================\n",
            "Total params: 2,241,698\n",
            "Trainable params: 2,241,698\n",
            "Non-trainable params: 0\n",
            "_________________________________________________________________\n"
          ]
        }
      ]
    },
    {
      "cell_type": "code",
      "source": [
        "((3 * 3 * 1) + 1) * 28  # Number of  paramaters for the first layer"
      ],
      "metadata": {
        "colab": {
          "base_uri": "https://localhost:8080/"
        },
        "id": "fpVj-jEAtWKB",
        "outputId": "39b90051-79ee-4d84-bde4-a958a22d5421"
      },
      "execution_count": 116,
      "outputs": [
        {
          "output_type": "execute_result",
          "data": {
            "text/plain": [
              "280"
            ]
          },
          "metadata": {},
          "execution_count": 116
        }
      ]
    },
    {
      "cell_type": "code",
      "source": [],
      "metadata": {
        "id": "n1CtkyJd43YD"
      },
      "execution_count": null,
      "outputs": []
    },
    {
      "cell_type": "markdown",
      "metadata": {
        "id": "iTau3_TkXb_D"
      },
      "source": [
        "##  Model Training \n",
        "\n",
        "**TASK 6: Train/Fit the model to the x_train set by using EarlyStop. Amount of epochs is up to you.**"
      ]
    },
    {
      "cell_type": "code",
      "source": [
        "from tensorflow.keras.callbacks import EarlyStopping"
      ],
      "metadata": {
        "id": "-Vb9TsBYuC-X"
      },
      "execution_count": 117,
      "outputs": []
    },
    {
      "cell_type": "code",
      "source": [
        "early_stop = EarlyStopping(monitor=\"val_accuracy\", mode=\"max\", patience=3, restore_best_weights=True)"
      ],
      "metadata": {
        "id": "T0UHM1VK1iCv"
      },
      "execution_count": 118,
      "outputs": []
    },
    {
      "cell_type": "code",
      "source": [
        "model.fit(X_train, Y_train, \n",
        "          batch_size=64, \n",
        "          epochs=15, \n",
        "          validation_data=[X_test, Y_test],\n",
        "          callbacks=[early_stop])"
      ],
      "metadata": {
        "id": "8zofHjqz1iFy",
        "colab": {
          "base_uri": "https://localhost:8080/"
        },
        "outputId": "78392339-8149-420a-ea1f-caa06d1077b4"
      },
      "execution_count": 119,
      "outputs": [
        {
          "output_type": "stream",
          "name": "stdout",
          "text": [
            "Epoch 1/15\n",
            "938/938 [==============================] - 230s 79ms/step - loss: 0.4089 - accuracy: 0.8571 - val_loss: 0.3064 - val_accuracy: 0.8903\n",
            "Epoch 2/15\n",
            "938/938 [==============================] - 75s 80ms/step - loss: 0.2574 - accuracy: 0.9082 - val_loss: 0.2846 - val_accuracy: 0.8951\n",
            "Epoch 3/15\n",
            "938/938 [==============================] - 74s 79ms/step - loss: 0.2100 - accuracy: 0.9236 - val_loss: 0.2757 - val_accuracy: 0.9063\n",
            "Epoch 4/15\n",
            "938/938 [==============================] - 75s 80ms/step - loss: 0.1767 - accuracy: 0.9360 - val_loss: 0.2792 - val_accuracy: 0.9053\n",
            "Epoch 5/15\n",
            "938/938 [==============================] - 72s 77ms/step - loss: 0.1505 - accuracy: 0.9458 - val_loss: 0.3362 - val_accuracy: 0.8957\n",
            "Epoch 6/15\n",
            "938/938 [==============================] - 73s 78ms/step - loss: 0.1299 - accuracy: 0.9530 - val_loss: 0.2703 - val_accuracy: 0.9177\n",
            "Epoch 7/15\n",
            "938/938 [==============================] - 72s 77ms/step - loss: 0.1108 - accuracy: 0.9609 - val_loss: 0.2969 - val_accuracy: 0.9116\n",
            "Epoch 8/15\n",
            "938/938 [==============================] - 74s 79ms/step - loss: 0.0969 - accuracy: 0.9656 - val_loss: 0.2981 - val_accuracy: 0.9110\n",
            "Epoch 9/15\n",
            "938/938 [==============================] - 74s 79ms/step - loss: 0.0863 - accuracy: 0.9707 - val_loss: 0.3354 - val_accuracy: 0.9140\n"
          ]
        },
        {
          "output_type": "execute_result",
          "data": {
            "text/plain": [
              "<keras.callbacks.History at 0x7f6788c33810>"
            ]
          },
          "metadata": {},
          "execution_count": 119
        }
      ]
    },
    {
      "cell_type": "code",
      "source": [],
      "metadata": {
        "id": "7zyw6wYyFf9P"
      },
      "execution_count": null,
      "outputs": []
    },
    {
      "cell_type": "code",
      "execution_count": null,
      "metadata": {
        "id": "hqQFRpf2Xb_G"
      },
      "outputs": [],
      "source": []
    },
    {
      "cell_type": "code",
      "execution_count": null,
      "metadata": {
        "id": "W3iv0EEFXb_G"
      },
      "outputs": [],
      "source": []
    },
    {
      "cell_type": "markdown",
      "metadata": {
        "id": "8kVUxksYXb_G"
      },
      "source": [
        "**TASK 7: Plot values of metrics you used in your model.**"
      ]
    },
    {
      "cell_type": "code",
      "source": [
        "model.metrics_names"
      ],
      "metadata": {
        "colab": {
          "base_uri": "https://localhost:8080/"
        },
        "id": "f506KDzUFZdX",
        "outputId": "34f2b685-a08f-485b-a352-ecf70079cb91"
      },
      "execution_count": 121,
      "outputs": [
        {
          "output_type": "execute_result",
          "data": {
            "text/plain": [
              "['loss', 'accuracy']"
            ]
          },
          "metadata": {},
          "execution_count": 121
        }
      ]
    },
    {
      "cell_type": "code",
      "execution_count": 122,
      "metadata": {
        "id": "p2zs8xM-Xb_H",
        "colab": {
          "base_uri": "https://localhost:8080/",
          "height": 206
        },
        "outputId": "004d184b-d16c-4b51-d123-aa6e1b12d5b6"
      },
      "outputs": [
        {
          "output_type": "execute_result",
          "data": {
            "text/plain": [
              "   loss  accuracy  val_loss  val_accuracy\n",
              "0 0.409     0.857     0.306         0.890\n",
              "1 0.257     0.908     0.285         0.895\n",
              "2 0.210     0.924     0.276         0.906\n",
              "3 0.177     0.936     0.279         0.905\n",
              "4 0.150     0.946     0.336         0.896"
            ],
            "text/html": [
              "\n",
              "  <div id=\"df-0f0b7666-2a36-48b3-b30b-ea0c3f2010dc\">\n",
              "    <div class=\"colab-df-container\">\n",
              "      <div>\n",
              "<style scoped>\n",
              "    .dataframe tbody tr th:only-of-type {\n",
              "        vertical-align: middle;\n",
              "    }\n",
              "\n",
              "    .dataframe tbody tr th {\n",
              "        vertical-align: top;\n",
              "    }\n",
              "\n",
              "    .dataframe thead th {\n",
              "        text-align: right;\n",
              "    }\n",
              "</style>\n",
              "<table border=\"1\" class=\"dataframe\">\n",
              "  <thead>\n",
              "    <tr style=\"text-align: right;\">\n",
              "      <th></th>\n",
              "      <th>loss</th>\n",
              "      <th>accuracy</th>\n",
              "      <th>val_loss</th>\n",
              "      <th>val_accuracy</th>\n",
              "    </tr>\n",
              "  </thead>\n",
              "  <tbody>\n",
              "    <tr>\n",
              "      <th>0</th>\n",
              "      <td>0.409</td>\n",
              "      <td>0.857</td>\n",
              "      <td>0.306</td>\n",
              "      <td>0.890</td>\n",
              "    </tr>\n",
              "    <tr>\n",
              "      <th>1</th>\n",
              "      <td>0.257</td>\n",
              "      <td>0.908</td>\n",
              "      <td>0.285</td>\n",
              "      <td>0.895</td>\n",
              "    </tr>\n",
              "    <tr>\n",
              "      <th>2</th>\n",
              "      <td>0.210</td>\n",
              "      <td>0.924</td>\n",
              "      <td>0.276</td>\n",
              "      <td>0.906</td>\n",
              "    </tr>\n",
              "    <tr>\n",
              "      <th>3</th>\n",
              "      <td>0.177</td>\n",
              "      <td>0.936</td>\n",
              "      <td>0.279</td>\n",
              "      <td>0.905</td>\n",
              "    </tr>\n",
              "    <tr>\n",
              "      <th>4</th>\n",
              "      <td>0.150</td>\n",
              "      <td>0.946</td>\n",
              "      <td>0.336</td>\n",
              "      <td>0.896</td>\n",
              "    </tr>\n",
              "  </tbody>\n",
              "</table>\n",
              "</div>\n",
              "      <button class=\"colab-df-convert\" onclick=\"convertToInteractive('df-0f0b7666-2a36-48b3-b30b-ea0c3f2010dc')\"\n",
              "              title=\"Convert this dataframe to an interactive table.\"\n",
              "              style=\"display:none;\">\n",
              "        \n",
              "  <svg xmlns=\"http://www.w3.org/2000/svg\" height=\"24px\"viewBox=\"0 0 24 24\"\n",
              "       width=\"24px\">\n",
              "    <path d=\"M0 0h24v24H0V0z\" fill=\"none\"/>\n",
              "    <path d=\"M18.56 5.44l.94 2.06.94-2.06 2.06-.94-2.06-.94-.94-2.06-.94 2.06-2.06.94zm-11 1L8.5 8.5l.94-2.06 2.06-.94-2.06-.94L8.5 2.5l-.94 2.06-2.06.94zm10 10l.94 2.06.94-2.06 2.06-.94-2.06-.94-.94-2.06-.94 2.06-2.06.94z\"/><path d=\"M17.41 7.96l-1.37-1.37c-.4-.4-.92-.59-1.43-.59-.52 0-1.04.2-1.43.59L10.3 9.45l-7.72 7.72c-.78.78-.78 2.05 0 2.83L4 21.41c.39.39.9.59 1.41.59.51 0 1.02-.2 1.41-.59l7.78-7.78 2.81-2.81c.8-.78.8-2.07 0-2.86zM5.41 20L4 18.59l7.72-7.72 1.47 1.35L5.41 20z\"/>\n",
              "  </svg>\n",
              "      </button>\n",
              "      \n",
              "  <style>\n",
              "    .colab-df-container {\n",
              "      display:flex;\n",
              "      flex-wrap:wrap;\n",
              "      gap: 12px;\n",
              "    }\n",
              "\n",
              "    .colab-df-convert {\n",
              "      background-color: #E8F0FE;\n",
              "      border: none;\n",
              "      border-radius: 50%;\n",
              "      cursor: pointer;\n",
              "      display: none;\n",
              "      fill: #1967D2;\n",
              "      height: 32px;\n",
              "      padding: 0 0 0 0;\n",
              "      width: 32px;\n",
              "    }\n",
              "\n",
              "    .colab-df-convert:hover {\n",
              "      background-color: #E2EBFA;\n",
              "      box-shadow: 0px 1px 2px rgba(60, 64, 67, 0.3), 0px 1px 3px 1px rgba(60, 64, 67, 0.15);\n",
              "      fill: #174EA6;\n",
              "    }\n",
              "\n",
              "    [theme=dark] .colab-df-convert {\n",
              "      background-color: #3B4455;\n",
              "      fill: #D2E3FC;\n",
              "    }\n",
              "\n",
              "    [theme=dark] .colab-df-convert:hover {\n",
              "      background-color: #434B5C;\n",
              "      box-shadow: 0px 1px 3px 1px rgba(0, 0, 0, 0.15);\n",
              "      filter: drop-shadow(0px 1px 2px rgba(0, 0, 0, 0.3));\n",
              "      fill: #FFFFFF;\n",
              "    }\n",
              "  </style>\n",
              "\n",
              "      <script>\n",
              "        const buttonEl =\n",
              "          document.querySelector('#df-0f0b7666-2a36-48b3-b30b-ea0c3f2010dc button.colab-df-convert');\n",
              "        buttonEl.style.display =\n",
              "          google.colab.kernel.accessAllowed ? 'block' : 'none';\n",
              "\n",
              "        async function convertToInteractive(key) {\n",
              "          const element = document.querySelector('#df-0f0b7666-2a36-48b3-b30b-ea0c3f2010dc');\n",
              "          const dataTable =\n",
              "            await google.colab.kernel.invokeFunction('convertToInteractive',\n",
              "                                                     [key], {});\n",
              "          if (!dataTable) return;\n",
              "\n",
              "          const docLinkHtml = 'Like what you see? Visit the ' +\n",
              "            '<a target=\"_blank\" href=https://colab.research.google.com/notebooks/data_table.ipynb>data table notebook</a>'\n",
              "            + ' to learn more about interactive tables.';\n",
              "          element.innerHTML = '';\n",
              "          dataTable['output_type'] = 'display_data';\n",
              "          await google.colab.output.renderOutput(dataTable, element);\n",
              "          const docLink = document.createElement('div');\n",
              "          docLink.innerHTML = docLinkHtml;\n",
              "          element.appendChild(docLink);\n",
              "        }\n",
              "      </script>\n",
              "    </div>\n",
              "  </div>\n",
              "  "
            ]
          },
          "metadata": {},
          "execution_count": 122
        }
      ],
      "source": [
        "summary = pd.DataFrame(model.history.history)\n",
        "summary.head()"
      ]
    },
    {
      "cell_type": "code",
      "source": [
        "summary.plot();"
      ],
      "metadata": {
        "colab": {
          "base_uri": "https://localhost:8080/",
          "height": 374
        },
        "id": "1vU6q7OMFzaU",
        "outputId": "4c39ce4b-1c73-4eb9-c5c0-f6212db45535"
      },
      "execution_count": 124,
      "outputs": [
        {
          "output_type": "display_data",
          "data": {
            "text/plain": [
              "<Figure size 720x432 with 1 Axes>"
            ],
            "image/png": "[encoded data removed]"
          },
          "metadata": {}
        }
      ]
    },
    {
      "cell_type": "code",
      "source": [
        "summary[[\"loss\", \"val_loss\"]].plot();"
      ],
      "metadata": {
        "colab": {
          "base_uri": "https://localhost:8080/",
          "height": 374
        },
        "id": "gJif1zbvF6SO",
        "outputId": "efd19d91-b80f-4fc5-d154-fa6b465e5c50"
      },
      "execution_count": 125,
      "outputs": [
        {
          "output_type": "display_data",
          "data": {
            "text/plain": [
              "<Figure size 720x432 with 1 Axes>"
            ],
            "image/png": "[encoded data removed]"
          },
          "metadata": {}
        }
      ]
    },
    {
      "cell_type": "code",
      "source": [
        "summary[[\"accuracy\", \"val_accuracy\"]].plot();"
      ],
      "metadata": {
        "colab": {
          "base_uri": "https://localhost:8080/",
          "height": 374
        },
        "id": "cro9H4zRGFvG",
        "outputId": "80236ddc-c103-43f0-aaaf-4c2915b0ee6d"
      },
      "execution_count": 126,
      "outputs": [
        {
          "output_type": "display_data",
          "data": {
            "text/plain": [
              "<Figure size 720x432 with 1 Axes>"
            ],
            "image/png": "[encoded data removed]"
          },
          "metadata": {}
        }
      ]
    },
    {
      "cell_type": "code",
      "source": [],
      "metadata": {
        "id": "L9sN8gZdGKIp"
      },
      "execution_count": null,
      "outputs": []
    },
    {
      "cell_type": "code",
      "source": [],
      "metadata": {
        "id": "AZnJpNKpFmtE"
      },
      "execution_count": null,
      "outputs": []
    },
    {
      "cell_type": "code",
      "source": [],
      "metadata": {
        "id": "yhpfyfIZFmxK"
      },
      "execution_count": null,
      "outputs": []
    },
    {
      "cell_type": "code",
      "execution_count": null,
      "metadata": {
        "id": "yusf80JyXb_H"
      },
      "outputs": [],
      "source": []
    },
    {
      "cell_type": "markdown",
      "metadata": {
        "id": "zKxkmW_sXb_H"
      },
      "source": [
        "## Model Evaluation\n",
        "\n",
        "**TASK 8: Show the accuracy,precision,recall,f1-score the model achieved on the x_test data set. Keep in mind, there are quite a few ways to do this, but we recommend following the same procedure we showed in the MNIST lecture.**"
      ]
    },
    {
      "cell_type": "code",
      "execution_count": 127,
      "metadata": {
        "id": "_EziVoEKXb_I"
      },
      "outputs": [],
      "source": [
        "from sklearn.metrics import classification_report, confusion_matrix, multilabel_confusion_matrix"
      ]
    },
    {
      "cell_type": "code",
      "execution_count": 128,
      "metadata": {
        "id": "YyKZan_AXb_I",
        "colab": {
          "base_uri": "https://localhost:8080/"
        },
        "outputId": "4a5d36a8-84dd-4067-f872-11b4b76db7a8"
      },
      "outputs": [
        {
          "output_type": "stream",
          "name": "stdout",
          "text": [
            "313/313 [==============================] - 4s 11ms/step - loss: 0.2703 - accuracy: 0.9177\n"
          ]
        },
        {
          "output_type": "execute_result",
          "data": {
            "text/plain": [
              "[0.2702851891517639, 0.9176999926567078]"
            ]
          },
          "metadata": {},
          "execution_count": 128
        }
      ],
      "source": [
        "model.evaluate(X_test, Y_test)"
      ]
    },
    {
      "cell_type": "code",
      "execution_count": 129,
      "metadata": {
        "id": "2V-X6yCFXb_I",
        "colab": {
          "base_uri": "https://localhost:8080/"
        },
        "outputId": "59c64059-fff2-4289-9bc6-6df9a495db8d"
      },
      "outputs": [
        {
          "output_type": "stream",
          "name": "stdout",
          "text": [
            "Test loss: 0.2702851891517639\n",
            "Test accuracy: 0.9176999926567078\n"
          ]
        }
      ],
      "source": [
        "score = model.evaluate(X_test, Y_test, verbose=0)\n",
        "print(\"Test loss:\", score[0])\n",
        "print(\"Test accuracy:\", score[1])"
      ]
    },
    {
      "cell_type": "code",
      "execution_count": 130,
      "metadata": {
        "id": "SLoKLnf1Xb_J",
        "colab": {
          "base_uri": "https://localhost:8080/"
        },
        "outputId": "f8e0bdd9-917e-4e12-ad9c-31b7582fa9bc"
      },
      "outputs": [
        {
          "output_type": "execute_result",
          "data": {
            "text/plain": [
              "array([[9.0488228e-08, 1.8858092e-12, 7.6279250e-09, ..., 9.7743323e-05,\n",
              "        1.4151189e-08, 9.9980170e-01],\n",
              "       [6.8708312e-07, 3.8230377e-16, 9.9999666e-01, ..., 4.9305186e-15,\n",
              "        2.3661944e-11, 9.6811177e-13],\n",
              "       [4.5960014e-11, 1.0000000e+00, 3.8187545e-14, ..., 4.4300494e-23,\n",
              "        1.7104084e-14, 7.7807718e-21],\n",
              "       ...,\n",
              "       [8.9211287e-09, 5.7219622e-16, 5.6421965e-09, ..., 1.8374673e-09,\n",
              "        1.0000000e+00, 3.5724789e-12],\n",
              "       [4.6245116e-10, 1.0000000e+00, 1.0220074e-11, ..., 2.0922212e-18,\n",
              "        3.4655235e-13, 8.2958990e-14],\n",
              "       [4.3059769e-04, 1.0343942e-06, 2.9006738e-03, ..., 8.5861258e-02,\n",
              "        3.7432730e-03, 1.2519360e-02]], dtype=float32)"
            ]
          },
          "metadata": {},
          "execution_count": 130
        }
      ],
      "source": [
        "pred_prob = model.predict(X_test)\n",
        "pred_prob"
      ]
    },
    {
      "cell_type": "code",
      "source": [
        "pred_prob.shape"
      ],
      "metadata": {
        "colab": {
          "base_uri": "https://localhost:8080/"
        },
        "id": "vJdzPniMGyOh",
        "outputId": "0812a9d4-a435-4443-89e5-0e8e5eb47ced"
      },
      "execution_count": 131,
      "outputs": [
        {
          "output_type": "execute_result",
          "data": {
            "text/plain": [
              "(10000, 10)"
            ]
          },
          "metadata": {},
          "execution_count": 131
        }
      ]
    },
    {
      "cell_type": "code",
      "source": [
        "pred_prob[0]"
      ],
      "metadata": {
        "colab": {
          "base_uri": "https://localhost:8080/"
        },
        "id": "FNwRlo-QHDCG",
        "outputId": "0781f0ad-d49f-4157-9368-bae75c788344"
      },
      "execution_count": 132,
      "outputs": [
        {
          "output_type": "execute_result",
          "data": {
            "text/plain": [
              "array([9.0488228e-08, 1.8858092e-12, 7.6279250e-09, 2.9207109e-11,\n",
              "       1.0186708e-09, 1.0043045e-04, 8.5666322e-08, 9.7743323e-05,\n",
              "       1.4151189e-08, 9.9980170e-01], dtype=float32)"
            ]
          },
          "metadata": {},
          "execution_count": 132
        }
      ]
    },
    {
      "cell_type": "code",
      "source": [
        "np.argmax(pred_prob[0])"
      ],
      "metadata": {
        "colab": {
          "base_uri": "https://localhost:8080/"
        },
        "id": "EiEn3Ur6HI6_",
        "outputId": "cdbd3a43-f12d-4e9b-d7bc-4999e3090a18"
      },
      "execution_count": 133,
      "outputs": [
        {
          "output_type": "execute_result",
          "data": {
            "text/plain": [
              "9"
            ]
          },
          "metadata": {},
          "execution_count": 133
        }
      ]
    },
    {
      "cell_type": "code",
      "source": [
        "y_pred = np.argmax(pred_prob, axis=1)\n",
        "y_pred"
      ],
      "metadata": {
        "colab": {
          "base_uri": "https://localhost:8080/"
        },
        "id": "rDe4X_9vHPpd",
        "outputId": "4ff9ff0f-adfc-44f7-eb81-5b0d9461cc72"
      },
      "execution_count": 134,
      "outputs": [
        {
          "output_type": "execute_result",
          "data": {
            "text/plain": [
              "array([9, 2, 1, ..., 8, 1, 5])"
            ]
          },
          "metadata": {},
          "execution_count": 134
        }
      ]
    },
    {
      "cell_type": "code",
      "source": [
        "y_pred.shape"
      ],
      "metadata": {
        "colab": {
          "base_uri": "https://localhost:8080/"
        },
        "id": "s0u1RBqsHa8w",
        "outputId": "166b337f-3509-4aec-af00-0171a1a88769"
      },
      "execution_count": 135,
      "outputs": [
        {
          "output_type": "execute_result",
          "data": {
            "text/plain": [
              "(10000,)"
            ]
          },
          "metadata": {},
          "execution_count": 135
        }
      ]
    },
    {
      "cell_type": "code",
      "source": [
        "print(classification_report(y_test, y_pred))"
      ],
      "metadata": {
        "colab": {
          "base_uri": "https://localhost:8080/"
        },
        "id": "KojvIDuHHfep",
        "outputId": "d12f3c0b-59bb-4272-898b-5cf101bbe21f"
      },
      "execution_count": 136,
      "outputs": [
        {
          "output_type": "stream",
          "name": "stdout",
          "text": [
            "              precision    recall  f1-score   support\n",
            "\n",
            "           0       0.89      0.86      0.88      1000\n",
            "           1       0.99      0.98      0.98      1000\n",
            "           2       0.84      0.87      0.86      1000\n",
            "           3       0.91      0.94      0.92      1000\n",
            "           4       0.87      0.89      0.88      1000\n",
            "           5       0.98      0.98      0.98      1000\n",
            "           6       0.77      0.75      0.76      1000\n",
            "           7       0.96      0.97      0.97      1000\n",
            "           8       0.99      0.97      0.98      1000\n",
            "           9       0.97      0.97      0.97      1000\n",
            "\n",
            "    accuracy                           0.92     10000\n",
            "   macro avg       0.92      0.92      0.92     10000\n",
            "weighted avg       0.92      0.92      0.92     10000\n",
            "\n"
          ]
        }
      ]
    },
    {
      "cell_type": "code",
      "execution_count": 137,
      "metadata": {
        "colab": {
          "base_uri": "https://localhost:8080/"
        },
        "id": "Cx8JkUECHvn9",
        "outputId": "872c685a-9287-486d-daa8-aae81329ea15"
      },
      "outputs": [
        {
          "output_type": "stream",
          "name": "stdout",
          "text": [
            "[[865   1  27  13   4   1  84   0   5   0]\n",
            " [  3 976   1  12   4   0   2   0   2   0]\n",
            " [ 11   0 873   8  60   0  48   0   0   0]\n",
            " [  5   3   8 938  15   0  31   0   0   0]\n",
            " [  1   1  43  25 885   0  45   0   0   0]\n",
            " [  0   0   0   0   0 981   0  10   0   9]\n",
            " [ 88   1  78  26  54   0 749   0   4   0]\n",
            " [  0   0   0   0   0  11   0 973   0  16]\n",
            " [  2   0   4   9   0   4   7   3 970   1]\n",
            " [  0   0   0   0   0   4   1  28   0 967]]\n"
          ]
        }
      ],
      "source": [
        "print(confusion_matrix(y_test, y_pred))"
      ]
    },
    {
      "cell_type": "code",
      "execution_count": 138,
      "metadata": {
        "id": "weQW_anSNmj8",
        "colab": {
          "base_uri": "https://localhost:8080/"
        },
        "outputId": "0cfc6614-cb05-433c-9161-855af1534874"
      },
      "outputs": [
        {
          "output_type": "stream",
          "name": "stdout",
          "text": [
            "[[865   1  27  13   4   1  84   0   5   0]\n",
            " [  3 976   1  12   4   0   2   0   2   0]\n",
            " [ 11   0 873   8  60   0  48   0   0   0]\n",
            " [  5   3   8 938  15   0  31   0   0   0]\n",
            " [  1   1  43  25 885   0  45   0   0   0]\n",
            " [  0   0   0   0   0 981   0  10   0   9]\n",
            " [ 88   1  78  26  54   0 749   0   4   0]\n",
            " [  0   0   0   0   0  11   0 973   0  16]\n",
            " [  2   0   4   9   0   4   7   3 970   1]\n",
            " [  0   0   0   0   0   4   1  28   0 967]]\n"
          ]
        }
      ],
      "source": [
        "print(confusion_matrix(y_test, y_pred))"
      ]
    },
    {
      "cell_type": "code",
      "source": [
        "plt.figure(figsize=(15,10))\n",
        "sns.heatmap(confusion_matrix(y_test, y_pred), annot=True, cmap=\"Blues\", linewidths=.5, linecolor='black', fmt='g', annot_kws = {\"size\": 15});"
      ],
      "metadata": {
        "colab": {
          "base_uri": "https://localhost:8080/",
          "height": 592
        },
        "id": "9f_1MPenH3B7",
        "outputId": "6260c1b3-bc7d-486b-b677-573f1c9b4d1b"
      },
      "execution_count": 140,
      "outputs": [
        {
          "output_type": "display_data",
          "data": {
            "text/plain": [
              "<Figure size 1080x720 with 2 Axes>"
            ],
            "image/png": "[encoded data removed]"
          },
          "metadata": {}
        }
      ]
    },
    {
      "cell_type": "code",
      "source": [
        "y_test != y_pred"
      ],
      "metadata": {
        "colab": {
          "base_uri": "https://localhost:8080/"
        },
        "id": "49ebNS7LH3Ky",
        "outputId": "d0cb268c-fe0c-41d5-ea01-50bfc1673179"
      },
      "execution_count": 141,
      "outputs": [
        {
          "output_type": "execute_result",
          "data": {
            "text/plain": [
              "array([False, False, False, ..., False, False, False])"
            ]
          },
          "metadata": {},
          "execution_count": 141
        }
      ]
    },
    {
      "cell_type": "code",
      "source": [
        "(y_test != y_pred).sum()"
      ],
      "metadata": {
        "colab": {
          "base_uri": "https://localhost:8080/"
        },
        "id": "0DLDu6ZcIHlX",
        "outputId": "a3547f33-1a51-43df-90f9-09be49e776f6"
      },
      "execution_count": 142,
      "outputs": [
        {
          "output_type": "execute_result",
          "data": {
            "text/plain": [
              "823"
            ]
          },
          "metadata": {},
          "execution_count": 142
        }
      ]
    },
    {
      "cell_type": "code",
      "source": [],
      "metadata": {
        "id": "xOcV9bTBIIxo"
      },
      "execution_count": null,
      "outputs": []
    },
    {
      "cell_type": "markdown",
      "metadata": {
        "id": "sBxy41miXb_J"
      },
      "source": [
        "## Prediction"
      ]
    },
    {
      "cell_type": "code",
      "source": [
        "my_cloth = X_test[9]"
      ],
      "metadata": {
        "id": "C7rq3BnkG5aH"
      },
      "execution_count": 147,
      "outputs": []
    },
    {
      "cell_type": "code",
      "source": [
        "my_cloth.shape"
      ],
      "metadata": {
        "colab": {
          "base_uri": "https://localhost:8080/"
        },
        "id": "C1-JrNlDIbvt",
        "outputId": "7e978e4c-ad6d-464e-a57e-4a269404c91c"
      },
      "execution_count": 148,
      "outputs": [
        {
          "output_type": "execute_result",
          "data": {
            "text/plain": [
              "(28, 28, 1)"
            ]
          },
          "metadata": {},
          "execution_count": 148
        }
      ]
    },
    {
      "cell_type": "code",
      "source": [
        "plt.imshow(my_cloth.reshape(28,28), cmap=\"gray\");"
      ],
      "metadata": {
        "colab": {
          "base_uri": "https://localhost:8080/",
          "height": 374
        },
        "id": "7SFCpvXFIeVe",
        "outputId": "d85887d2-4a84-4089-d1e1-147a99af30e0"
      },
      "execution_count": 149,
      "outputs": [
        {
          "output_type": "display_data",
          "data": {
            "text/plain": [
              "<Figure size 720x432 with 1 Axes>"
            ],
            "image/png": "[encoded data removed]"
          },
          "metadata": {}
        }
      ]
    },
    {
      "cell_type": "code",
      "execution_count": 150,
      "metadata": {
        "id": "b_XnlPrQXb_J",
        "colab": {
          "base_uri": "https://localhost:8080/"
        },
        "outputId": "a9ae920f-33f9-45c5-9721-bafd083e55f9"
      },
      "outputs": [
        {
          "output_type": "execute_result",
          "data": {
            "text/plain": [
              "21"
            ]
          },
          "metadata": {},
          "execution_count": 150
        }
      ],
      "source": [
        "y_pred = np.argmax(pred_prob)\n",
        "y_pred"
      ]
    },
    {
      "cell_type": "code",
      "source": [
        "model.save(\"cnn-cloth_classification.h5\")"
      ],
      "metadata": {
        "id": "57gzaIB0JFpU"
      },
      "execution_count": 151,
      "outputs": []
    },
    {
      "cell_type": "code",
      "source": [
        "model = tf.keras.models.load_model(\"cnn-cloth_classification.h5\")"
      ],
      "metadata": {
        "id": "PYK7tZ__JFtk"
      },
      "execution_count": 153,
      "outputs": []
    },
    {
      "cell_type": "code",
      "source": [
        "pred = model.predict(np.expand_dims(X_test[35], axis=0))"
      ],
      "metadata": {
        "id": "KEYQuL9mJu3H"
      },
      "execution_count": 156,
      "outputs": []
    },
    {
      "cell_type": "code",
      "source": [
        "np.argmax(pred)"
      ],
      "metadata": {
        "colab": {
          "base_uri": "https://localhost:8080/"
        },
        "id": "nKTmEgW2JvNS",
        "outputId": "ff3d47c5-97b5-4eff-abe0-cb4c795f564a"
      },
      "execution_count": 157,
      "outputs": [
        {
          "output_type": "execute_result",
          "data": {
            "text/plain": [
              "0"
            ]
          },
          "metadata": {},
          "execution_count": 157
        }
      ]
    },
    {
      "cell_type": "code",
      "source": [
        "plt.imshow(X_test[35].reshape(28,28), cmap=\"gray\");"
      ],
      "metadata": {
        "colab": {
          "base_uri": "https://localhost:8080/",
          "height": 374
        },
        "id": "1m4gGbRZJvdT",
        "outputId": "7fd810cb-b98f-44f2-8bd8-af5433dbe527"
      },
      "execution_count": 160,
      "outputs": [
        {
          "output_type": "display_data",
          "data": {
            "text/plain": [
              "<Figure size 720x432 with 1 Axes>"
            ],
            "image/png": "[encoded data removed]"
          },
          "metadata": {}
        }
      ]
    },
    {
      "cell_type": "markdown",
      "metadata": {
        "id": "mjDAaS2vXb_J"
      },
      "source": [
        "# End of Assignment"
      ]
    },
    {
      "cell_type": "code",
      "source": [],
      "metadata": {
        "id": "-teBboRIJEkE"
      },
      "execution_count": null,
      "outputs": []
    },
    {
      "cell_type": "markdown",
      "metadata": {
        "id": "ioyv2sEZXb_J"
      },
      "source": [
        "___\n",
        "\n",
        "<p style=\"text-align: center;\"><img src=\"https://docs.google.com/uc?id=1lY0Uj5R04yMY3-ZppPWxqCr5pvBLYPnV\" class=\"img-fluid\" alt=\"CLRSWY\"></p>\n",
        "\n",
        "___"
      ]
    }
  ],
  "metadata": {
    "kernelspec": {
      "display_name": "Python 3",
      "language": "python",
      "name": "python3"
    },
    "language_info": {
      "codemirror_mode": {
        "name": "ipython",
        "version": 3
      },
      "file_extension": ".py",
      "mimetype": "text/x-python",
      "name": "python",
      "nbconvert_exporter": "python",
      "pygments_lexer": "ipython3",
      "version": "3.7.6"
    },
    "toc": {
      "base_numbering": 1,
      "nav_menu": {},
      "number_sections": false,
      "sideBar": true,
      "skip_h1_title": false,
      "title_cell": "Table of Contents",
      "title_sidebar": "Contents",
      "toc_cell": false,
      "toc_position": {},
      "toc_section_display": true,
      "toc_window_display": true
    },
    "colab": {
      "provenance": [],
      "include_colab_link": true
    }
  },
  "nbformat": 4,
  "nbformat_minor": 0
}